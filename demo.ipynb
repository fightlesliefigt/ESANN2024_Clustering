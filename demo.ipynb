{
 "cells": [
  {
   "cell_type": "markdown",
   "metadata": {},
   "source": [
    "# Minimal SPDIM incorporating TSMNet demo notebook for inter-session/-subject source-free unsupervised domain adaptation (SFUDA) under label shifts"
   ]
  },
  {
   "cell_type": "code",
   "execution_count": 1,
   "metadata": {},
   "outputs": [],
   "source": [
    "import torch\n",
    "import sklearn\n",
    "import pandas as pd\n",
    "from copy import deepcopy\n",
    "from moabb.datasets import BNCI2015_001\n",
    "from moabb.paradigms import MotorImagery\n",
    "from spdnets.dataloader import StratifiedDomainDataLoader, DomainDataset \n",
    "from spdnets.models import TSMNet\n",
    "import spdnets.batchnorm as bn\n",
    "import spdnets.functionals as fn\n",
    "from spdnets.trainer import Trainer\n",
    "from spdnets.callbacks import MomentumBatchNormScheduler, EarlyStopping"
   ]
  },
  {
   "cell_type": "markdown",
   "metadata": {},
   "source": [
    "## Parameters for experiments\n",
    "### Notice: define the evaluation setting (i.e., inter-session/inter-subject) and the label ratio (label shifts level in the target domain) here.\n",
    "### We have provided pre-trained source models. If you wish to train the model from scratch, please set 'pretrained_model' to False. It usually takes 5/30 mins for inter-session/inter-subject to train on standard PCs with a single GPU."
   ]
  },
  {
   "cell_type": "code",
   "execution_count": 2,
   "metadata": {},
   "outputs": [
    {
     "name": "stdout",
     "output_type": "stream",
     "text": [
      "GPU\n"
     ]
    }
   ],
   "source": [
    "# Network and training configuration\n",
    "cfg = dict(\n",
    "    # parameters for experiments\n",
    "    epochs = 100,\n",
    "    batch_size_train = 50,\n",
    "    domains_per_batch = 5,\n",
    "    validation_size = 0.2,\n",
    "    evaluation = 'inter-session', # 'inter-subject' or 'inter-session'\n",
    "    label_ratio = 0.2,        # we set 0.2 in the paper\n",
    "    dtype = torch.float32,\n",
    "    pretrained_model = True,\n",
    "    # parameters for the TSMNet model\n",
    "    mdl_kwargs = dict(\n",
    "        temporal_filters=4,\n",
    "        spatial_filters=40,\n",
    "        subspacedims=20, \n",
    "        bnorm_dispersion=bn.BatchNormDispersion.SCALAR,\n",
    "        spd_device='cpu',\n",
    "        spd_dtype=torch.double,\n",
    "        domain_adaptation=True\n",
    "    )\n",
    ")\n",
    "\n",
    "if torch.cuda.is_available():\n",
    "    device = torch.device('cuda')\n",
    "    print('GPU')\n",
    "else:\n",
    "    device = torch.device('cpu')\n",
    "    print('CPU')"
   ]
  },
  {
   "cell_type": "markdown",
   "metadata": {},
   "source": [
    "## load a MOABB dataset. \n",
    "### Notice: there is no need to manually download and preprocess the datasets. This is done automatically in MOABB pipeline"
   ]
  },
  {
   "cell_type": "code",
   "execution_count": 3,
   "metadata": {},
   "outputs": [],
   "source": [
    "moabb_ds = BNCI2015_001()\n",
    "n_classes = 2\n",
    "moabb_paradigm = MotorImagery(n_classes=n_classes, events=['right_hand', 'feet'], fmin=4, fmax=36, tmin=1.0, tmax=4.0, resample=256)"
   ]
  },
  {
   "cell_type": "markdown",
   "metadata": {},
   "source": [
    "## fit and evaluat the model for all domains"
   ]
  },
  {
   "cell_type": "code",
   "execution_count": 4,
   "metadata": {},
   "outputs": [
    {
     "name": "stderr",
     "output_type": "stream",
     "text": [
      "C:\\Users\\shanglin\\AppData\\Roaming\\Python\\Python39\\site-packages\\moabb\\datasets\\preprocessing.py:279: UserWarning: warnEpochs <Epochs | 200 events (all good), 1 – 4 s (baseline off), ~30.5 MB, data loaded,\n",
      " 'right_hand': 100\n",
      " 'feet': 100>\n",
      "  warn(f\"warnEpochs {epochs}\")\n",
      "C:\\Users\\shanglin\\AppData\\Roaming\\Python\\Python39\\site-packages\\moabb\\datasets\\preprocessing.py:279: UserWarning: warnEpochs <Epochs | 200 events (all good), 1 – 4 s (baseline off), ~30.5 MB, data loaded,\n",
      " 'right_hand': 100\n",
      " 'feet': 100>\n",
      "  warn(f\"warnEpochs {epochs}\")\n",
      "C:\\Users\\shanglin\\AppData\\Roaming\\Python\\Python39\\site-packages\\sklearn\\model_selection\\_split.py:2335: UserWarning: The groups parameter is ignored by StratifiedShuffleSplit\n",
      "  warnings.warn(\n"
     ]
    },
    {
     "name": "stdout",
     "output_type": "stream",
     "text": [
      "Subject:0, test domain: 0\n",
      "RCT {'loss': 0.1862202286720276, 'score': 0.96}\n",
      "clustering {'loss': 0.00427457457408309, 'score': 1.0}\n",
      "Subject:0, test domain: 1\n",
      "RCT {'loss': 0.2871244549751282, 'score': 0.9450000000000001}\n"
     ]
    },
    {
     "name": "stderr",
     "output_type": "stream",
     "text": [
      "C:\\Users\\shanglin\\AppData\\Roaming\\Python\\Python39\\site-packages\\sklearn\\model_selection\\_split.py:2335: UserWarning: The groups parameter is ignored by StratifiedShuffleSplit\n",
      "  warnings.warn(\n"
     ]
    },
    {
     "name": "stdout",
     "output_type": "stream",
     "text": [
      "clustering {'loss': 0.044719304889440536, 'score': 0.99}\n"
     ]
    },
    {
     "name": "stderr",
     "output_type": "stream",
     "text": [
      "C:\\Users\\shanglin\\AppData\\Roaming\\Python\\Python39\\site-packages\\moabb\\datasets\\preprocessing.py:279: UserWarning: warnEpochs <Epochs | 200 events (all good), 1 – 4 s (baseline off), ~30.5 MB, data loaded,\n",
      " 'right_hand': 100\n",
      " 'feet': 100>\n",
      "  warn(f\"warnEpochs {epochs}\")\n",
      "C:\\Users\\shanglin\\AppData\\Roaming\\Python\\Python39\\site-packages\\moabb\\datasets\\preprocessing.py:279: UserWarning: warnEpochs <Epochs | 200 events (all good), 1 – 4 s (baseline off), ~30.5 MB, data loaded,\n",
      " 'right_hand': 100\n",
      " 'feet': 100>\n",
      "  warn(f\"warnEpochs {epochs}\")\n",
      "C:\\Users\\shanglin\\AppData\\Roaming\\Python\\Python39\\site-packages\\sklearn\\model_selection\\_split.py:2335: UserWarning: The groups parameter is ignored by StratifiedShuffleSplit\n",
      "  warnings.warn(\n"
     ]
    },
    {
     "name": "stdout",
     "output_type": "stream",
     "text": [
      "Subject:1, test domain: 0\n",
      "RCT {'loss': 0.2395249754190445, 'score': 0.9450000000000001}\n",
      "clustering {'loss': 0.014276506379246712, 'score': 1.0}\n",
      "Subject:1, test domain: 1\n",
      "RCT {'loss': 0.3011021018028259, 'score': 0.94}\n"
     ]
    },
    {
     "name": "stderr",
     "output_type": "stream",
     "text": [
      "C:\\Users\\shanglin\\AppData\\Roaming\\Python\\Python39\\site-packages\\sklearn\\model_selection\\_split.py:2335: UserWarning: The groups parameter is ignored by StratifiedShuffleSplit\n",
      "  warnings.warn(\n"
     ]
    },
    {
     "name": "stdout",
     "output_type": "stream",
     "text": [
      "clustering {'loss': 0.03853554651141167, 'score': 0.97}\n"
     ]
    },
    {
     "name": "stderr",
     "output_type": "stream",
     "text": [
      "C:\\Users\\shanglin\\AppData\\Roaming\\Python\\Python39\\site-packages\\moabb\\datasets\\preprocessing.py:279: UserWarning: warnEpochs <Epochs | 200 events (all good), 1 – 4 s (baseline off), ~30.5 MB, data loaded,\n",
      " 'right_hand': 100\n",
      " 'feet': 100>\n",
      "  warn(f\"warnEpochs {epochs}\")\n",
      "C:\\Users\\shanglin\\AppData\\Roaming\\Python\\Python39\\site-packages\\moabb\\datasets\\preprocessing.py:279: UserWarning: warnEpochs <Epochs | 200 events (all good), 1 – 4 s (baseline off), ~30.5 MB, data loaded,\n",
      " 'right_hand': 100\n",
      " 'feet': 100>\n",
      "  warn(f\"warnEpochs {epochs}\")\n",
      "C:\\Users\\shanglin\\AppData\\Roaming\\Python\\Python39\\site-packages\\sklearn\\model_selection\\_split.py:2335: UserWarning: The groups parameter is ignored by StratifiedShuffleSplit\n",
      "  warnings.warn(\n"
     ]
    },
    {
     "name": "stdout",
     "output_type": "stream",
     "text": [
      "Subject:2, test domain: 0\n",
      "RCT {'loss': 0.6154170632362366, 'score': 0.855}\n",
      "clustering {'loss': 0.3749459385871887, 'score': 0.895}\n",
      "Subject:2, test domain: 1\n",
      "RCT {'loss': 0.47351497411727905, 'score': 0.88}\n"
     ]
    },
    {
     "name": "stderr",
     "output_type": "stream",
     "text": [
      "C:\\Users\\shanglin\\AppData\\Roaming\\Python\\Python39\\site-packages\\sklearn\\model_selection\\_split.py:2335: UserWarning: The groups parameter is ignored by StratifiedShuffleSplit\n",
      "  warnings.warn(\n"
     ]
    },
    {
     "name": "stdout",
     "output_type": "stream",
     "text": [
      "clustering {'loss': 0.17627711594104767, 'score': 0.935}\n"
     ]
    },
    {
     "name": "stderr",
     "output_type": "stream",
     "text": [
      "C:\\Users\\shanglin\\AppData\\Roaming\\Python\\Python39\\site-packages\\moabb\\datasets\\preprocessing.py:279: UserWarning: warnEpochs <Epochs | 200 events (all good), 1 – 4 s (baseline off), ~30.5 MB, data loaded,\n",
      " 'right_hand': 100\n",
      " 'feet': 100>\n",
      "  warn(f\"warnEpochs {epochs}\")\n",
      "C:\\Users\\shanglin\\AppData\\Roaming\\Python\\Python39\\site-packages\\moabb\\datasets\\preprocessing.py:279: UserWarning: warnEpochs <Epochs | 200 events (all good), 1 – 4 s (baseline off), ~30.5 MB, data loaded,\n",
      " 'right_hand': 100\n",
      " 'feet': 100>\n",
      "  warn(f\"warnEpochs {epochs}\")\n",
      "C:\\Users\\shanglin\\AppData\\Roaming\\Python\\Python39\\site-packages\\sklearn\\model_selection\\_split.py:2335: UserWarning: The groups parameter is ignored by StratifiedShuffleSplit\n",
      "  warnings.warn(\n"
     ]
    },
    {
     "name": "stdout",
     "output_type": "stream",
     "text": [
      "Subject:3, test domain: 0\n",
      "RCT {'loss': 0.3927690386772156, 'score': 0.885}\n",
      "clustering {'loss': 0.1394817978143692, 'score': 0.87}\n",
      "Subject:3, test domain: 1\n",
      "RCT {'loss': 0.45832502841949463, 'score': 0.855}\n"
     ]
    },
    {
     "name": "stderr",
     "output_type": "stream",
     "text": [
      "C:\\Users\\shanglin\\AppData\\Roaming\\Python\\Python39\\site-packages\\sklearn\\model_selection\\_split.py:2335: UserWarning: The groups parameter is ignored by StratifiedShuffleSplit\n",
      "  warnings.warn(\n"
     ]
    },
    {
     "name": "stdout",
     "output_type": "stream",
     "text": [
      "clustering {'loss': 0.20754128694534302, 'score': 0.87}\n"
     ]
    },
    {
     "name": "stderr",
     "output_type": "stream",
     "text": [
      "C:\\Users\\shanglin\\AppData\\Roaming\\Python\\Python39\\site-packages\\moabb\\datasets\\preprocessing.py:279: UserWarning: warnEpochs <Epochs | 200 events (all good), 1 – 4 s (baseline off), ~30.5 MB, data loaded,\n",
      " 'right_hand': 100\n",
      " 'feet': 100>\n",
      "  warn(f\"warnEpochs {epochs}\")\n",
      "C:\\Users\\shanglin\\AppData\\Roaming\\Python\\Python39\\site-packages\\moabb\\datasets\\preprocessing.py:279: UserWarning: warnEpochs <Epochs | 200 events (all good), 1 – 4 s (baseline off), ~30.5 MB, data loaded,\n",
      " 'right_hand': 100\n",
      " 'feet': 100>\n",
      "  warn(f\"warnEpochs {epochs}\")\n",
      "C:\\Users\\shanglin\\AppData\\Roaming\\Python\\Python39\\site-packages\\sklearn\\model_selection\\_split.py:2335: UserWarning: The groups parameter is ignored by StratifiedShuffleSplit\n",
      "  warnings.warn(\n"
     ]
    },
    {
     "name": "stdout",
     "output_type": "stream",
     "text": [
      "Subject:4, test domain: 0\n",
      "RCT {'loss': 0.6095286011695862, 'score': 0.815}\n",
      "clustering {'loss': 0.5678255558013916, 'score': 0.8300000000000001}\n",
      "Subject:4, test domain: 1\n",
      "RCT {'loss': 0.6144850850105286, 'score': 0.835}\n"
     ]
    },
    {
     "name": "stderr",
     "output_type": "stream",
     "text": [
      "C:\\Users\\shanglin\\AppData\\Roaming\\Python\\Python39\\site-packages\\sklearn\\model_selection\\_split.py:2335: UserWarning: The groups parameter is ignored by StratifiedShuffleSplit\n",
      "  warnings.warn(\n"
     ]
    },
    {
     "name": "stdout",
     "output_type": "stream",
     "text": [
      "clustering {'loss': 0.5092177987098694, 'score': 0.865}\n"
     ]
    },
    {
     "name": "stderr",
     "output_type": "stream",
     "text": [
      "C:\\Users\\shanglin\\AppData\\Roaming\\Python\\Python39\\site-packages\\moabb\\datasets\\preprocessing.py:279: UserWarning: warnEpochs <Epochs | 200 events (all good), 1 – 4 s (baseline off), ~30.5 MB, data loaded,\n",
      " 'right_hand': 100\n",
      " 'feet': 100>\n",
      "  warn(f\"warnEpochs {epochs}\")\n",
      "C:\\Users\\shanglin\\AppData\\Roaming\\Python\\Python39\\site-packages\\moabb\\datasets\\preprocessing.py:279: UserWarning: warnEpochs <Epochs | 200 events (all good), 1 – 4 s (baseline off), ~30.5 MB, data loaded,\n",
      " 'right_hand': 100\n",
      " 'feet': 100>\n",
      "  warn(f\"warnEpochs {epochs}\")\n",
      "C:\\Users\\shanglin\\AppData\\Roaming\\Python\\Python39\\site-packages\\sklearn\\model_selection\\_split.py:2335: UserWarning: The groups parameter is ignored by StratifiedShuffleSplit\n",
      "  warnings.warn(\n"
     ]
    },
    {
     "name": "stdout",
     "output_type": "stream",
     "text": [
      "Subject:5, test domain: 0\n",
      "RCT {'loss': 0.7752129435539246, 'score': 0.7250000000000001}\n",
      "clustering {'loss': 0.7302314639091492, 'score': 0.73}\n",
      "Subject:5, test domain: 1\n",
      "RCT {'loss': 0.6805852055549622, 'score': 0.74}\n"
     ]
    },
    {
     "name": "stderr",
     "output_type": "stream",
     "text": [
      "C:\\Users\\shanglin\\AppData\\Roaming\\Python\\Python39\\site-packages\\sklearn\\model_selection\\_split.py:2335: UserWarning: The groups parameter is ignored by StratifiedShuffleSplit\n",
      "  warnings.warn(\n"
     ]
    },
    {
     "name": "stdout",
     "output_type": "stream",
     "text": [
      "clustering {'loss': 0.7560980319976807, 'score': 0.74}\n"
     ]
    },
    {
     "name": "stderr",
     "output_type": "stream",
     "text": [
      "C:\\Users\\shanglin\\AppData\\Roaming\\Python\\Python39\\site-packages\\moabb\\datasets\\preprocessing.py:279: UserWarning: warnEpochs <Epochs | 200 events (all good), 1 – 4 s (baseline off), ~30.5 MB, data loaded,\n",
      " 'right_hand': 100\n",
      " 'feet': 100>\n",
      "  warn(f\"warnEpochs {epochs}\")\n",
      "C:\\Users\\shanglin\\AppData\\Roaming\\Python\\Python39\\site-packages\\moabb\\datasets\\preprocessing.py:279: UserWarning: warnEpochs <Epochs | 200 events (all good), 1 – 4 s (baseline off), ~30.5 MB, data loaded,\n",
      " 'right_hand': 100\n",
      " 'feet': 100>\n",
      "  warn(f\"warnEpochs {epochs}\")\n",
      "C:\\Users\\shanglin\\AppData\\Roaming\\Python\\Python39\\site-packages\\sklearn\\model_selection\\_split.py:2335: UserWarning: The groups parameter is ignored by StratifiedShuffleSplit\n",
      "  warnings.warn(\n"
     ]
    },
    {
     "name": "stdout",
     "output_type": "stream",
     "text": [
      "Subject:6, test domain: 0\n",
      "RCT {'loss': 0.5381815433502197, 'score': 0.86}\n",
      "clustering {'loss': 0.2875145375728607, 'score': 0.9}\n",
      "Subject:6, test domain: 1\n",
      "RCT {'loss': 0.6461504697799683, 'score': 0.825}\n"
     ]
    },
    {
     "name": "stderr",
     "output_type": "stream",
     "text": [
      "C:\\Users\\shanglin\\AppData\\Roaming\\Python\\Python39\\site-packages\\sklearn\\model_selection\\_split.py:2335: UserWarning: The groups parameter is ignored by StratifiedShuffleSplit\n",
      "  warnings.warn(\n"
     ]
    },
    {
     "name": "stdout",
     "output_type": "stream",
     "text": [
      "clustering {'loss': 0.48352208733558655, 'score': 0.815}\n"
     ]
    },
    {
     "name": "stderr",
     "output_type": "stream",
     "text": [
      "C:\\Users\\shanglin\\AppData\\Roaming\\Python\\Python39\\site-packages\\moabb\\datasets\\preprocessing.py:279: UserWarning: warnEpochs <Epochs | 200 events (all good), 1 – 4 s (baseline off), ~30.5 MB, data loaded,\n",
      " 'right_hand': 100\n",
      " 'feet': 100>\n",
      "  warn(f\"warnEpochs {epochs}\")\n",
      "C:\\Users\\shanglin\\AppData\\Roaming\\Python\\Python39\\site-packages\\moabb\\datasets\\preprocessing.py:279: UserWarning: warnEpochs <Epochs | 200 events (all good), 1 – 4 s (baseline off), ~30.5 MB, data loaded,\n",
      " 'right_hand': 100\n",
      " 'feet': 100>\n",
      "  warn(f\"warnEpochs {epochs}\")\n",
      "C:\\Users\\shanglin\\AppData\\Roaming\\Python\\Python39\\site-packages\\moabb\\datasets\\preprocessing.py:279: UserWarning: warnEpochs <Epochs | 200 events (all good), 1 – 4 s (baseline off), ~30.5 MB, data loaded,\n",
      " 'right_hand': 100\n",
      " 'feet': 100>\n",
      "  warn(f\"warnEpochs {epochs}\")\n",
      "C:\\Users\\shanglin\\AppData\\Roaming\\Python\\Python39\\site-packages\\sklearn\\model_selection\\_split.py:2335: UserWarning: The groups parameter is ignored by StratifiedShuffleSplit\n",
      "  warnings.warn(\n"
     ]
    },
    {
     "name": "stdout",
     "output_type": "stream",
     "text": [
      "Subject:7, test domain: 0\n",
      "RCT {'loss': 0.7675186991691589, 'score': 0.72}\n",
      "clustering {'loss': 0.5146584510803223, 'score': 0.725}\n",
      "Subject:7, test domain: 1\n",
      "RCT {'loss': 0.6190028786659241, 'score': 0.74}\n"
     ]
    },
    {
     "name": "stderr",
     "output_type": "stream",
     "text": [
      "C:\\Users\\shanglin\\AppData\\Roaming\\Python\\Python39\\site-packages\\sklearn\\model_selection\\_split.py:2335: UserWarning: The groups parameter is ignored by StratifiedShuffleSplit\n",
      "  warnings.warn(\n"
     ]
    },
    {
     "name": "stdout",
     "output_type": "stream",
     "text": [
      "clustering {'loss': 0.617132842540741, 'score': 0.74}\n",
      "Subject:7, test domain: 2\n",
      "RCT {'loss': 0.6647598147392273, 'score': 0.8}\n"
     ]
    },
    {
     "name": "stderr",
     "output_type": "stream",
     "text": [
      "C:\\Users\\shanglin\\AppData\\Roaming\\Python\\Python39\\site-packages\\sklearn\\model_selection\\_split.py:2335: UserWarning: The groups parameter is ignored by StratifiedShuffleSplit\n",
      "  warnings.warn(\n"
     ]
    },
    {
     "name": "stdout",
     "output_type": "stream",
     "text": [
      "clustering {'loss': 0.6231288313865662, 'score': 0.815}\n"
     ]
    },
    {
     "name": "stderr",
     "output_type": "stream",
     "text": [
      "C:\\Users\\shanglin\\AppData\\Roaming\\Python\\Python39\\site-packages\\moabb\\datasets\\preprocessing.py:279: UserWarning: warnEpochs <Epochs | 200 events (all good), 1 – 4 s (baseline off), ~30.5 MB, data loaded,\n",
      " 'right_hand': 100\n",
      " 'feet': 100>\n",
      "  warn(f\"warnEpochs {epochs}\")\n",
      "C:\\Users\\shanglin\\AppData\\Roaming\\Python\\Python39\\site-packages\\moabb\\datasets\\preprocessing.py:279: UserWarning: warnEpochs <Epochs | 200 events (all good), 1 – 4 s (baseline off), ~30.5 MB, data loaded,\n",
      " 'right_hand': 100\n",
      " 'feet': 100>\n",
      "  warn(f\"warnEpochs {epochs}\")\n",
      "C:\\Users\\shanglin\\AppData\\Roaming\\Python\\Python39\\site-packages\\moabb\\datasets\\preprocessing.py:279: UserWarning: warnEpochs <Epochs | 200 events (all good), 1 – 4 s (baseline off), ~30.5 MB, data loaded,\n",
      " 'right_hand': 100\n",
      " 'feet': 100>\n",
      "  warn(f\"warnEpochs {epochs}\")\n",
      "C:\\Users\\shanglin\\AppData\\Roaming\\Python\\Python39\\site-packages\\sklearn\\model_selection\\_split.py:2335: UserWarning: The groups parameter is ignored by StratifiedShuffleSplit\n",
      "  warnings.warn(\n"
     ]
    },
    {
     "name": "stdout",
     "output_type": "stream",
     "text": [
      "Subject:8, test domain: 0\n",
      "RCT {'loss': 1.079963207244873, 'score': 0.69}\n",
      "clustering {'loss': 0.7985784411430359, 'score': 0.695}\n",
      "Subject:8, test domain: 1\n",
      "RCT {'loss': 0.6267551183700562, 'score': 0.7949999999999999}\n"
     ]
    },
    {
     "name": "stderr",
     "output_type": "stream",
     "text": [
      "C:\\Users\\shanglin\\AppData\\Roaming\\Python\\Python39\\site-packages\\sklearn\\model_selection\\_split.py:2335: UserWarning: The groups parameter is ignored by StratifiedShuffleSplit\n",
      "  warnings.warn(\n"
     ]
    },
    {
     "name": "stdout",
     "output_type": "stream",
     "text": [
      "clustering {'loss': 0.4248878061771393, 'score': 0.87}\n",
      "Subject:8, test domain: 2\n",
      "RCT {'loss': 0.49211204051971436, 'score': 0.85}\n"
     ]
    },
    {
     "name": "stderr",
     "output_type": "stream",
     "text": [
      "C:\\Users\\shanglin\\AppData\\Roaming\\Python\\Python39\\site-packages\\sklearn\\model_selection\\_split.py:2335: UserWarning: The groups parameter is ignored by StratifiedShuffleSplit\n",
      "  warnings.warn(\n"
     ]
    },
    {
     "name": "stdout",
     "output_type": "stream",
     "text": [
      "clustering {'loss': 0.33416491746902466, 'score': 0.9099999999999999}\n"
     ]
    },
    {
     "name": "stderr",
     "output_type": "stream",
     "text": [
      "C:\\Users\\shanglin\\AppData\\Roaming\\Python\\Python39\\site-packages\\moabb\\datasets\\preprocessing.py:279: UserWarning: warnEpochs <Epochs | 200 events (all good), 1 – 4 s (baseline off), ~30.5 MB, data loaded,\n",
      " 'right_hand': 100\n",
      " 'feet': 100>\n",
      "  warn(f\"warnEpochs {epochs}\")\n",
      "C:\\Users\\shanglin\\AppData\\Roaming\\Python\\Python39\\site-packages\\moabb\\datasets\\preprocessing.py:279: UserWarning: warnEpochs <Epochs | 200 events (all good), 1 – 4 s (baseline off), ~30.5 MB, data loaded,\n",
      " 'right_hand': 100\n",
      " 'feet': 100>\n",
      "  warn(f\"warnEpochs {epochs}\")\n",
      "C:\\Users\\shanglin\\AppData\\Roaming\\Python\\Python39\\site-packages\\moabb\\datasets\\preprocessing.py:279: UserWarning: warnEpochs <Epochs | 200 events (all good), 1 – 4 s (baseline off), ~30.5 MB, data loaded,\n",
      " 'right_hand': 100\n",
      " 'feet': 100>\n",
      "  warn(f\"warnEpochs {epochs}\")\n",
      "C:\\Users\\shanglin\\AppData\\Roaming\\Python\\Python39\\site-packages\\sklearn\\model_selection\\_split.py:2335: UserWarning: The groups parameter is ignored by StratifiedShuffleSplit\n",
      "  warnings.warn(\n"
     ]
    },
    {
     "name": "stdout",
     "output_type": "stream",
     "text": [
      "Subject:9, test domain: 0\n",
      "RCT {'loss': 0.7714546322822571, 'score': 0.745}\n",
      "clustering {'loss': 0.48742932081222534, 'score': 0.735}\n",
      "Subject:9, test domain: 1\n",
      "RCT {'loss': 0.8173813223838806, 'score': 0.735}\n"
     ]
    },
    {
     "name": "stderr",
     "output_type": "stream",
     "text": [
      "C:\\Users\\shanglin\\AppData\\Roaming\\Python\\Python39\\site-packages\\sklearn\\model_selection\\_split.py:2335: UserWarning: The groups parameter is ignored by StratifiedShuffleSplit\n",
      "  warnings.warn(\n"
     ]
    },
    {
     "name": "stdout",
     "output_type": "stream",
     "text": [
      "clustering {'loss': 0.7629995942115784, 'score': 0.7150000000000001}\n",
      "Subject:9, test domain: 2\n",
      "RCT {'loss': 0.930731475353241, 'score': 0.625}\n"
     ]
    },
    {
     "name": "stderr",
     "output_type": "stream",
     "text": [
      "C:\\Users\\shanglin\\AppData\\Roaming\\Python\\Python39\\site-packages\\sklearn\\model_selection\\_split.py:2335: UserWarning: The groups parameter is ignored by StratifiedShuffleSplit\n",
      "  warnings.warn(\n"
     ]
    },
    {
     "name": "stdout",
     "output_type": "stream",
     "text": [
      "clustering {'loss': 0.8972203135490417, 'score': 0.6499999999999999}\n"
     ]
    },
    {
     "name": "stderr",
     "output_type": "stream",
     "text": [
      "C:\\Users\\shanglin\\AppData\\Roaming\\Python\\Python39\\site-packages\\moabb\\datasets\\preprocessing.py:279: UserWarning: warnEpochs <Epochs | 200 events (all good), 1 – 4 s (baseline off), ~30.5 MB, data loaded,\n",
      " 'right_hand': 100\n",
      " 'feet': 100>\n",
      "  warn(f\"warnEpochs {epochs}\")\n",
      "C:\\Users\\shanglin\\AppData\\Roaming\\Python\\Python39\\site-packages\\moabb\\datasets\\preprocessing.py:279: UserWarning: warnEpochs <Epochs | 200 events (all good), 1 – 4 s (baseline off), ~30.5 MB, data loaded,\n",
      " 'right_hand': 100\n",
      " 'feet': 100>\n",
      "  warn(f\"warnEpochs {epochs}\")\n",
      "C:\\Users\\shanglin\\AppData\\Roaming\\Python\\Python39\\site-packages\\moabb\\datasets\\preprocessing.py:279: UserWarning: warnEpochs <Epochs | 200 events (all good), 1 – 4 s (baseline off), ~30.5 MB, data loaded,\n",
      " 'right_hand': 100\n",
      " 'feet': 100>\n",
      "  warn(f\"warnEpochs {epochs}\")\n",
      "C:\\Users\\shanglin\\AppData\\Roaming\\Python\\Python39\\site-packages\\sklearn\\model_selection\\_split.py:2335: UserWarning: The groups parameter is ignored by StratifiedShuffleSplit\n",
      "  warnings.warn(\n"
     ]
    },
    {
     "name": "stdout",
     "output_type": "stream",
     "text": [
      "Subject:10, test domain: 0\n",
      "RCT {'loss': 0.6306249499320984, 'score': 0.7849999999999999}\n",
      "clustering {'loss': 0.5648812055587769, 'score': 0.815}\n",
      "Subject:10, test domain: 1\n",
      "RCT {'loss': 0.7752155065536499, 'score': 0.74}\n"
     ]
    },
    {
     "name": "stderr",
     "output_type": "stream",
     "text": [
      "C:\\Users\\shanglin\\AppData\\Roaming\\Python\\Python39\\site-packages\\sklearn\\model_selection\\_split.py:2335: UserWarning: The groups parameter is ignored by StratifiedShuffleSplit\n",
      "  warnings.warn(\n"
     ]
    },
    {
     "name": "stdout",
     "output_type": "stream",
     "text": [
      "clustering {'loss': 0.7502878308296204, 'score': 0.75}\n",
      "Subject:10, test domain: 2\n",
      "RCT {'loss': 0.8560011982917786, 'score': 0.835}\n"
     ]
    },
    {
     "name": "stderr",
     "output_type": "stream",
     "text": [
      "C:\\Users\\shanglin\\AppData\\Roaming\\Python\\Python39\\site-packages\\sklearn\\model_selection\\_split.py:2335: UserWarning: The groups parameter is ignored by StratifiedShuffleSplit\n",
      "  warnings.warn(\n"
     ]
    },
    {
     "name": "stdout",
     "output_type": "stream",
     "text": [
      "clustering {'loss': 0.7330495119094849, 'score': 0.86}\n"
     ]
    },
    {
     "name": "stderr",
     "output_type": "stream",
     "text": [
      "C:\\Users\\shanglin\\AppData\\Roaming\\Python\\Python39\\site-packages\\moabb\\datasets\\preprocessing.py:279: UserWarning: warnEpochs <Epochs | 200 events (all good), 1 – 4 s (baseline off), ~30.5 MB, data loaded,\n",
      " 'right_hand': 100\n",
      " 'feet': 100>\n",
      "  warn(f\"warnEpochs {epochs}\")\n",
      "C:\\Users\\shanglin\\AppData\\Roaming\\Python\\Python39\\site-packages\\moabb\\datasets\\preprocessing.py:279: UserWarning: warnEpochs <Epochs | 200 events (all good), 1 – 4 s (baseline off), ~30.5 MB, data loaded,\n",
      " 'right_hand': 100\n",
      " 'feet': 100>\n",
      "  warn(f\"warnEpochs {epochs}\")\n",
      "C:\\Users\\shanglin\\AppData\\Roaming\\Python\\Python39\\site-packages\\sklearn\\model_selection\\_split.py:2335: UserWarning: The groups parameter is ignored by StratifiedShuffleSplit\n",
      "  warnings.warn(\n"
     ]
    },
    {
     "name": "stdout",
     "output_type": "stream",
     "text": [
      "Subject:11, test domain: 0\n",
      "RCT {'loss': 0.9370726943016052, 'score': 0.735}\n",
      "clustering {'loss': 1.1962510347366333, 'score': 0.69}\n",
      "Subject:11, test domain: 1\n",
      "RCT {'loss': 0.6992105841636658, 'score': 0.655}\n"
     ]
    },
    {
     "name": "stderr",
     "output_type": "stream",
     "text": [
      "C:\\Users\\shanglin\\AppData\\Roaming\\Python\\Python39\\site-packages\\sklearn\\model_selection\\_split.py:2335: UserWarning: The groups parameter is ignored by StratifiedShuffleSplit\n",
      "  warnings.warn(\n"
     ]
    },
    {
     "name": "stdout",
     "output_type": "stream",
     "text": [
      "clustering {'loss': 0.6393830180168152, 'score': 0.685}\n"
     ]
    }
   ],
   "source": [
    "records = []\n",
    "\n",
    "# Check the evaluation type in the configuration\n",
    "if 'inter-session' in cfg['evaluation']:\n",
    "    subset_iter = iter([[s] for s in moabb_ds.subject_list])\n",
    "    groupvarname = 'session'\n",
    "elif 'inter-subject' in cfg['evaluation']:\n",
    "    subset_iter = iter([None])\n",
    "    groupvarname = 'subject'\n",
    "else:\n",
    "    raise NotImplementedError()\n",
    "\n",
    "\n",
    "# iterate over groups\n",
    "for ix_subset, subjects in enumerate(subset_iter):\n",
    "\n",
    "    # get the data from the MOABB paradigm/dataset\n",
    "    X, labels, metadata = moabb_paradigm.get_data(moabb_ds, subjects=subjects, return_epochs=False)\n",
    "\n",
    "    # extract domains = subject/session\n",
    "    metadata['label'] = labels\n",
    "    metadata['domain'] = metadata.apply(lambda row: f'{row.subject}/{row.session}',  axis=1)\n",
    "    domain = sklearn.preprocessing.LabelEncoder().fit_transform(metadata['domain'])\n",
    "\n",
    "    # convert to torch tensors\n",
    "    domain = torch.from_numpy(domain)\n",
    "    X = torch.from_numpy(X)\n",
    "    y = sklearn.preprocessing.LabelEncoder().fit_transform(labels)\n",
    "    y = torch.from_numpy(y)\n",
    "\n",
    "    # leave one subject or session out\n",
    "    cv_outer = sklearn.model_selection.LeaveOneGroupOut()\n",
    "    cv_outer_group = metadata[groupvarname]\n",
    "\n",
    "    # train/validation split stratified across domains and labels\n",
    "    cv_inner_group = metadata.apply(lambda row: f'{row.domain}/{row.label}',  axis=1)\n",
    "    cv_inner_group = sklearn.preprocessing.LabelEncoder().fit_transform(cv_inner_group)\n",
    "\n",
    "    # add dataset depended model kwargs\n",
    "    mdl_kwargs = deepcopy(cfg['mdl_kwargs'])\n",
    "    mdl_kwargs['nclasses'] = n_classes\n",
    "    mdl_kwargs['nchannels'] = X.shape[1]\n",
    "    mdl_kwargs['nsamples'] = X.shape[2]\n",
    "    mdl_kwargs['domains'] = domain.unique()\n",
    "\n",
    "    # perform outer CV\n",
    "    for ix_fold, (fit, test) in enumerate(cv_outer.split(X, y, cv_outer_group)):\n",
    "\n",
    "        # split fitting data into train and validation \n",
    "        cv_inner = sklearn.model_selection.StratifiedShuffleSplit(n_splits=1, test_size=cfg['validation_size'])\n",
    "        train, val = next(cv_inner.split(X[fit], y[fit], cv_inner_group[fit]))\n",
    "\n",
    "        # adjust number of domains if necessary\n",
    "        du = domain[fit][train].unique()\n",
    "        if cfg['domains_per_batch'] > len(du):\n",
    "            domains_per_batch = len(du)\n",
    "        else:\n",
    "            domains_per_batch = cfg['domains_per_batch']\n",
    "\n",
    "        # get the label ratio , here source domain is balanced\n",
    "        source_label_ratio, target_label_ratio = fn.get_label_ratio(y, cfg['label_ratio'])\n",
    "        \n",
    "        # split entire dataset into train/validation\n",
    "        ds_train = DomainDataset(X[fit][train], y[fit][train], domain[fit][train],label_ratio=source_label_ratio)\n",
    "        ds_val = DomainDataset(X[fit][val], y[fit][val], domain[fit][val], label_ratio=source_label_ratio) \n",
    "\n",
    "        # create dataloaders, for training use specific loader/sampler so that \n",
    "        # batches contain a specific number of domains with equal observations per domain and stratified labels       \n",
    "        loader_train = StratifiedDomainDataLoader(ds_train, cfg['batch_size_train'], domains_per_batch=domains_per_batch, shuffle=True)\n",
    "        loader_val = torch.utils.data.DataLoader(ds_val, batch_size=len(ds_val))\n",
    "\n",
    "        # create the model\n",
    "        net = TSMNet(**mdl_kwargs).to(device=device, dtype=cfg['dtype'])\n",
    "\n",
    "        # create the momentum scheduler and early stopping callback\n",
    "        bn_sched = MomentumBatchNormScheduler(\n",
    "            epochs=cfg['epochs']-10,\n",
    "            bs0=cfg['batch_size_train'],\n",
    "            bs=cfg['batch_size_train']/cfg['domains_per_batch'], \n",
    "            tau0=0.85\n",
    "        )\n",
    "        es = EarlyStopping(metric='val_loss', higher_is_better=False, patience=20, verbose=False)\n",
    "        \n",
    "        # create the trainer\n",
    "        trainer = Trainer(\n",
    "            max_epochs=cfg['epochs'],\n",
    "            min_epochs=50,\n",
    "            callbacks=[bn_sched, es],\n",
    "            loss= torch.nn.CrossEntropyLoss(weight = None),\n",
    "            device=device, \n",
    "            dtype=cfg['dtype']\n",
    "        )\n",
    "\n",
    "        # fit the model extract model parameters\n",
    "        parameter_t = torch.tensor(1,dtype=torch.float64,device='cpu')\n",
    "\n",
    "        if cfg['pretrained_model']:\n",
    "            if cfg['evaluation'] == 'inter-session':\n",
    "                state_dict = torch.load(f\"pretrained_model/session/state_dict_{ix_subset}{ix_fold}.pt\", map_location=device)\n",
    "            elif cfg['evaluation'] == 'inter-subject':\n",
    "                state_dict = torch.load(f\"pretrained_model/subject/state_dict_{ix_fold}.pt\", map_location=device)\n",
    "        else:\n",
    "            trainer.fit(net, train_dataloader=loader_train, val_dataloader=loader_val,parameter_t=parameter_t)\n",
    "            state_dict = deepcopy(net.state_dict())\n",
    "\n",
    "        # create a new model for SFUDA\n",
    "        sfuda_offline_net = TSMNet(**mdl_kwargs).to(device=device)\n",
    "        sfuda_offline_net.load_state_dict(state_dict)\n",
    "        test_domain=domain[test].unique()\n",
    "\n",
    "\n",
    "        # Evaluate over test domains in the target domain \n",
    "        for test_domain in test_domain:\n",
    "            if 'inter-session' in cfg['evaluation']:\n",
    "                subject=ix_subset\n",
    "            else:\n",
    "                subject=ix_fold\n",
    "            print(f\"Subject:{subject}, test domain: {test_domain}\")\n",
    "            \n",
    "            # create test dataset, and artificially introduce the label shifts\n",
    "            ds_test = DomainDataset(X[test][domain[test] == test_domain], y[test][domain[test] == test_domain], domain[test][domain[test] == test_domain], label_ratio=target_label_ratio)\n",
    "            loader_test = torch.utils.data.DataLoader(ds_test, batch_size=len(ds_test))\n",
    "\n",
    "\n",
    "            # enable SFUDA \n",
    "            sfuda_offline_net.eval()\n",
    "            sfuda_offline_net.domainadapt_finetune(ds_test.features.to(dtype=cfg['dtype'], device=device), ds_test.labels.to(device=device), ds_test.domains, 'refit')\n",
    "\n",
    "            # SFUDA method: RCT\n",
    "            res = trainer.test(sfuda_offline_net, dataloader=loader_test,parameter_t=parameter_t)\n",
    "            print('RCT',res)\n",
    "            records.append(dict(mode='RCT',subject=subject,domain=test_domain, **res))\n",
    "\n",
    "            # SFUDA method: clustering refined mean [Li et al. 2024, ESANN]\n",
    "            refined_mean = trainer.get_refined_mean(sfuda_offline_net, test_dataloader=loader_test,parameter_t=parameter_t)\n",
    "            res = trainer.test(sfuda_offline_net, dataloader=loader_test, parameter_t=parameter_t,fm_mean=refined_mean)\n",
    "            print('clustering',res)\n",
    "            records.append(dict(mode=\"clustering\",subject=subject,domain=test_domain, **res))           \n",
    "\n",
    "\n"
   ]
  },
  {
   "cell_type": "code",
   "execution_count": 5,
   "metadata": {},
   "outputs": [
    {
     "data": {
      "text/html": [
       "<div>\n",
       "<style scoped>\n",
       "    .dataframe tbody tr th:only-of-type {\n",
       "        vertical-align: middle;\n",
       "    }\n",
       "\n",
       "    .dataframe tbody tr th {\n",
       "        vertical-align: top;\n",
       "    }\n",
       "\n",
       "    .dataframe thead tr th {\n",
       "        text-align: left;\n",
       "    }\n",
       "\n",
       "    .dataframe thead tr:last-of-type th {\n",
       "        text-align: right;\n",
       "    }\n",
       "</style>\n",
       "<table border=\"1\" class=\"dataframe\">\n",
       "  <thead>\n",
       "    <tr>\n",
       "      <th></th>\n",
       "      <th colspan=\"2\" halign=\"left\">subject</th>\n",
       "      <th colspan=\"2\" halign=\"left\">domain</th>\n",
       "      <th colspan=\"2\" halign=\"left\">loss</th>\n",
       "      <th colspan=\"2\" halign=\"left\">score</th>\n",
       "    </tr>\n",
       "    <tr>\n",
       "      <th></th>\n",
       "      <th>mean</th>\n",
       "      <th>std</th>\n",
       "      <th>mean</th>\n",
       "      <th>std</th>\n",
       "      <th>mean</th>\n",
       "      <th>std</th>\n",
       "      <th>mean</th>\n",
       "      <th>std</th>\n",
       "    </tr>\n",
       "    <tr>\n",
       "      <th>mode</th>\n",
       "      <th></th>\n",
       "      <th></th>\n",
       "      <th></th>\n",
       "      <th></th>\n",
       "      <th></th>\n",
       "      <th></th>\n",
       "      <th></th>\n",
       "      <th></th>\n",
       "    </tr>\n",
       "  </thead>\n",
       "  <tbody>\n",
       "    <tr>\n",
       "      <th>RCT</th>\n",
       "      <td>5.9286</td>\n",
       "      <td>3.4526</td>\n",
       "      <td>0.7143</td>\n",
       "      <td>0.7127</td>\n",
       "      <td>0.6245</td>\n",
       "      <td>0.2174</td>\n",
       "      <td>0.8041</td>\n",
       "      <td>0.0891</td>\n",
       "    </tr>\n",
       "    <tr>\n",
       "      <th>clustering</th>\n",
       "      <td>5.9286</td>\n",
       "      <td>3.4526</td>\n",
       "      <td>0.7143</td>\n",
       "      <td>0.7127</td>\n",
       "      <td>0.4885</td>\n",
       "      <td>0.2986</td>\n",
       "      <td>0.8238</td>\n",
       "      <td>0.1042</td>\n",
       "    </tr>\n",
       "  </tbody>\n",
       "</table>\n",
       "</div>"
      ],
      "text/plain": [
       "           subject          domain            loss           score        \n",
       "              mean     std    mean     std    mean     std    mean     std\n",
       "mode                                                                      \n",
       "RCT         5.9286  3.4526  0.7143  0.7127  0.6245  0.2174  0.8041  0.0891\n",
       "clustering  5.9286  3.4526  0.7143  0.7127  0.4885  0.2986  0.8238  0.1042"
      ]
     },
     "execution_count": 5,
     "metadata": {},
     "output_type": "execute_result"
    }
   ],
   "source": [
    "resdf = pd.DataFrame(records)\n",
    "resdf.groupby(['mode']).agg(['mean', 'std']).round(4)"
   ]
  }
 ],
 "metadata": {
  "kernelspec": {
   "display_name": "TSM",
   "language": "python",
   "name": "python3"
  },
  "language_info": {
   "codemirror_mode": {
    "name": "ipython",
    "version": 3
   },
   "file_extension": ".py",
   "mimetype": "text/x-python",
   "name": "python",
   "nbconvert_exporter": "python",
   "pygments_lexer": "ipython3",
   "version": "3.9.18"
  },
  "orig_nbformat": 4
 },
 "nbformat": 4,
 "nbformat_minor": 2
}
